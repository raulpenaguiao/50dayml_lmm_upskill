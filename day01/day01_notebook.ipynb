{
 "cells": [
  {
   "cell_type": "markdown",
   "id": "7bb14752",
   "metadata": {},
   "source": [
    "Day 01 of upskilling to ML engineer.\n",
    "This day we will work on the MNIST dataset. Our first tasks are:\n",
    "    Load MNIST dataset with torchvision\n",
    "    Print dataset size and visualize first 5 samples\n"
   ]
  },
  {
   "cell_type": "code",
   "execution_count": null,
   "id": "9d0f621d",
   "metadata": {
    "vscode": {
     "languageId": "plaintext"
    }
   },
   "outputs": [],
   "source": [
    "# Load MNIST dataset\n",
    "import torch\n",
    "from torchvision import datasets, transforms\n",
    "import matplotlib.pyplot as plt\n",
    "\n",
    "# Define a transform to normalize the data\n",
    "transform = transforms.Compose([\n",
    "    transforms.ToTensor(),\n",
    "    transforms.Normalize((0.5,), (0.5,))\n",
    "])\n",
    "\n",
    "# Load the training and test datasets\n",
    "train_dataset = datasets.MNIST(root='./data', train=True, download=True, transform=transform)\n",
    "test_dataset = datasets.MNIST(root='./data', train=False, download=True, transform=transform)\n",
    "\n",
    "# Print dataset sizes\n",
    "print(f\"Training set size: {len(train_dataset)}\")\n",
    "print(f\"Test set size: {len(test_dataset)}\")\n",
    "\n",
    "# Visualize the first 5 samples\n",
    "fig, axes = plt.subplots(1, 5, figsize=(15, 3))\n",
    "for i in range(5):\n",
    "    axes[i].imshow(train_dataset[i][0].squeeze(), cmap='gray')\n",
    "    axes[i].set_title(f\"Label: {train_dataset[i][1]}\")\n",
    "    axes[i].axis('off')\n",
    "plt.show()\n"
   ]
  }
 ],
 "metadata": {
  "language_info": {
   "name": "python"
  }
 },
 "nbformat": 4,
 "nbformat_minor": 5
}
