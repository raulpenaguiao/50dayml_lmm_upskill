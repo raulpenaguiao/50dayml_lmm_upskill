{
 "cells": [
  {
   "cell_type": "markdown",
   "id": "7bb14752",
   "metadata": {},
   "source": [
    "Day 01 of upskilling to ML engineer.\n",
    "This day we will work on the MNIST dataset. Our first tasks are:\n",
    "    Load MNIST dataset with torchvision\n",
    "    Print dataset size and visualize first 5 samples\n"
   ]
  },
  {
   "cell_type": "code",
   "execution_count": 16,
   "id": "f4385143",
   "metadata": {},
   "outputs": [
    {
     "name": "stdout",
     "output_type": "stream",
     "text": [
      "Note: you may need to restart the kernel to use updated packages.\n"
     ]
    },
    {
     "name": "stderr",
     "output_type": "stream",
     "text": [
      "\n",
      "[notice] A new release of pip is available: 25.0.1 -> 25.2\n",
      "[notice] To update, run: C:\\Users\\rpenaguiao\\AppData\\Local\\Microsoft\\WindowsApps\\PythonSoftwareFoundation.Python.3.11_qbz5n2kfra8p0\\python.exe -m pip install --upgrade pip\n"
     ]
    }
   ],
   "source": [
    "%pip install torch torchvision matplotlib scikit-learn > out.log"
   ]
  },
  {
   "cell_type": "code",
   "execution_count": 17,
   "id": "9d0f621d",
   "metadata": {},
   "outputs": [],
   "source": [
    "# Load MNIST dataset\n",
    "import torch\n",
    "from torchvision import datasets, transforms\n",
    "import matplotlib.pyplot as plt\n",
    "from sklearn.metrics import confusion_matrix, ConfusionMatrixDisplay\n"
   ]
  },
  {
   "cell_type": "markdown",
   "id": "05b5c10b",
   "metadata": {},
   "source": [
    "The MNIST dataset is a large collection of handwritten digit images (0-9), \n",
    "widely used for training and evaluating image processing and machine learning models. \n",
    "It contains 60,000 training images and 10,000 test images, each in grayscale at 28x28 pixels."
   ]
  },
  {
   "cell_type": "code",
   "execution_count": 18,
   "id": "f890be43",
   "metadata": {},
   "outputs": [
    {
     "name": "stdout",
     "output_type": "stream",
     "text": [
      "Training set size: 60000\n",
      "Test set size: 10000\n"
     ]
    }
   ],
   "source": [
    "# Define a transform to normalize the data\n",
    "transform = transforms.Compose([\n",
    "    transforms.ToTensor(),\n",
    "    transforms.Normalize((0.5,), (0.5,))\n",
    "])\n",
    "\n",
    "\"\"\"\n",
    "Explanation:\n",
    "transforms.Compose([...])\n",
    "Chains multiple transformations together so they are applied in sequence to each image.\n",
    "\n",
    "transforms.ToTensor()\n",
    "Converts a PIL image or NumPy array to a PyTorch tensor and scales pixel values from [0, 255] to [0.0, 1.0].\n",
    "\n",
    "transforms.Normalize((0.5,), (0.5,))\n",
    "Normalizes the tensor:\n",
    "\n",
    "Subtracts 0.5 from each pixel value (mean).\n",
    "Divides by 0.5 (standard deviation).\n",
    "This transforms pixel values from [0.0, 1.0] to [-1.0, 1.0], which helps neural networks train more efficiently.\n",
    "Summary:\n",
    "This transformation converts images to tensors and normalizes them to have values in the range [-1, 1].\n",
    "\"\"\"\n",
    "\n",
    "# Load the training and test datasets\n",
    "train_dataset = datasets.MNIST(root='./data', train=True, download=True, transform=transform)\n",
    "test_dataset = datasets.MNIST(root='./data', train=False, download=True, transform=transform)\n",
    "\n",
    "\"\"\"\n",
    "The MNIST dataset provided by torchvision.datasets.MNIST is already split into training and test sets by default.\n",
    "\n",
    "Explanation of the code:\n",
    "train=True loads the training set (60,000 images).\n",
    "train=False loads the test set (10,000 images).\n",
    "\"\"\"\n",
    "\n",
    "# Print dataset sizes\n",
    "print(f\"Training set size: {len(train_dataset)}\")\n",
    "print(f\"Test set size: {len(test_dataset)}\")"
   ]
  },
  {
   "cell_type": "code",
   "execution_count": 19,
   "id": "2517a320",
   "metadata": {},
   "outputs": [
    {
     "data": {
      "image/png": "[encoded data removed]",
      "text/plain": [
       "<Figure size 1500x300 with 5 Axes>"
      ]
     },
     "metadata": {},
     "output_type": "display_data"
    }
   ],
   "source": [
    "# Visualize the first 5 samples\n",
    "fig, axes = plt.subplots(1, 5, figsize=(15, 3))\n",
    "for i in range(5):\n",
    "    axes[i].imshow(train_dataset[i][0].squeeze(), cmap='gray')\n",
    "    axes[i].set_title(f\"Label: {train_dataset[i][1]}\")\n",
    "    axes[i].axis('off')\n",
    "plt.show()"
   ]
  },
  {
   "cell_type": "code",
   "execution_count": 20,
   "id": "882e592e",
   "metadata": {},
   "outputs": [
    {
     "name": "stdout",
     "output_type": "stream",
     "text": [
      "Data loaders created successfully.\n"
     ]
    }
   ],
   "source": [
    "# Create DataLoader objects for training and testing\n",
    "from torch.utils.data import DataLoader\n",
    "\n",
    "# Create DataLoader objects for training and testing\n",
    "train_loader = DataLoader(train_dataset, batch_size=64, shuffle=True)\n",
    "test_loader = DataLoader(test_dataset, batch_size=1000, shuffle=False)\n",
    "\n",
    "\"\"\"\n",
    "Explanation:\n",
    "\n",
    "batch_size controls how many samples are loaded per batch (adjust as needed).\n",
    "shuffle=True randomizes the training data order each epoch for better training.\n",
    "shuffle=False keeps the test data order fixed.\n",
    "You can now use train_loader and test_loader in your training and evaluation loops.\n",
    "\"\"\"\n",
    "print(\"Data loaders created successfully.\")"
   ]
  },
  {
   "cell_type": "markdown",
   "id": "bf0bf70c",
   "metadata": {},
   "source": [
    "# First MLP model"
   ]
  },
  {
   "cell_type": "markdown",
   "id": "2c7a19dc",
   "metadata": {},
   "source": [
    "- Define a simple 2-layer MLP (Multi-Layer Perceptron) in PyTorch using `nn.Module`\n",
    "- Input: 28x28 pixels → Flatten to 784\n",
    "- Hidden Layer: 128 neurons + ReLU\n",
    "- Output Layer: 10 classes (digits 0-9)"
   ]
  },
  {
   "cell_type": "code",
   "execution_count": 21,
   "id": "b3a81a99",
   "metadata": {},
   "outputs": [
    {
     "name": "stdout",
     "output_type": "stream",
     "text": [
      "Trainable parameter: fc1.weight, Size: torch.Size([16, 784])\n",
      "Parameter values: tensor([[-0.0190,  0.0112,  0.0320,  ...,  0.0034,  0.0164,  0.0042],\n",
      "        [-0.0119, -0.0274, -0.0039,  ..., -0.0037,  0.0271, -0.0338],\n",
      "        [ 0.0294, -0.0152, -0.0341,  ...,  0.0248, -0.0153, -0.0092],\n",
      "        ...,\n",
      "        [ 0.0012,  0.0308,  0.0286,  ...,  0.0050,  0.0238,  0.0016],\n",
      "        [ 0.0279, -0.0046,  0.0357,  ..., -0.0136,  0.0184,  0.0066],\n",
      "        [ 0.0344,  0.0039,  0.0068,  ..., -0.0030,  0.0289,  0.0205]])\n",
      "Trainable parameter: fc1.bias, Size: torch.Size([16])\n",
      "Parameter values: tensor([ 0.0292, -0.0116,  0.0220,  0.0232, -0.0052, -0.0180,  0.0150, -0.0097,\n",
      "         0.0128, -0.0216, -0.0179, -0.0194, -0.0212,  0.0194, -0.0029, -0.0231])\n",
      "Trainable parameter: fc2.weight, Size: torch.Size([10, 16])\n",
      "Parameter values: tensor([[ 0.1213, -0.0260, -0.1643,  0.0951, -0.1586,  0.1000, -0.0136, -0.2011,\n",
      "          0.2146,  0.1727,  0.0796,  0.0244, -0.1002, -0.1352,  0.0973, -0.2363],\n",
      "        [ 0.0344, -0.0690,  0.2434, -0.1781, -0.0167, -0.1935, -0.0575, -0.1845,\n",
      "         -0.0818,  0.1809, -0.2029,  0.0318, -0.1900, -0.1017, -0.2365,  0.0823],\n",
      "        [-0.2068,  0.1712, -0.0894, -0.0072,  0.1479,  0.0992,  0.0638,  0.0149,\n",
      "          0.1793, -0.2091,  0.0692,  0.2375,  0.0081, -0.2456, -0.1566, -0.0650],\n",
      "        [-0.0641, -0.0766,  0.1254,  0.1407, -0.1518,  0.1241, -0.0555, -0.0504,\n",
      "          0.0069, -0.2019,  0.1079,  0.0739, -0.1544,  0.2452,  0.1032,  0.1608],\n",
      "        [-0.1192,  0.1296, -0.2358, -0.1382,  0.2409,  0.0922,  0.2035,  0.1377,\n",
      "          0.0901, -0.1630,  0.2011,  0.2269, -0.1070,  0.1717,  0.2126, -0.2175],\n",
      "        [ 0.2318, -0.0303,  0.1664, -0.0564,  0.1929, -0.0313,  0.0355, -0.2360,\n",
      "         -0.2384,  0.0558, -0.1502, -0.1276,  0.1452, -0.2172,  0.1885, -0.0120],\n",
      "        [ 0.1946, -0.0091,  0.1674, -0.0013, -0.1870,  0.1410,  0.0880, -0.1822,\n",
      "          0.2102,  0.0506, -0.0400, -0.0196, -0.2477,  0.0682, -0.2257,  0.0907],\n",
      "        [-0.0053, -0.2114,  0.0498, -0.1335, -0.0657, -0.0289, -0.1044, -0.1681,\n",
      "         -0.2254, -0.1856, -0.1997, -0.1485,  0.0222, -0.0036, -0.2403,  0.0570],\n",
      "        [ 0.1518, -0.2041,  0.1318, -0.2414,  0.1557, -0.0577, -0.1133,  0.1525,\n",
      "         -0.2326, -0.1442,  0.1584,  0.1340, -0.1348,  0.0659,  0.0701, -0.1418],\n",
      "        [-0.2167, -0.1234,  0.1467,  0.0648,  0.2248,  0.1868,  0.0503,  0.1417,\n",
      "          0.0649,  0.1638, -0.0899, -0.1560,  0.1267, -0.0645, -0.2175, -0.2000]])\n",
      "Trainable parameter: fc2.bias, Size: torch.Size([10])\n",
      "Parameter values: tensor([-0.0278, -0.1953, -0.1064,  0.1092,  0.1078, -0.1893,  0.1271,  0.1667,\n",
      "        -0.1063, -0.1729])\n"
     ]
    }
   ],
   "source": [
    "import torch.nn as nn\n",
    "\n",
    "class MNISTClassifier_MLP(nn.Module):\n",
    "    def __init__(self):\n",
    "        super(MNISTClassifier_MLP, self).__init__()\n",
    "        self.flatten = nn.Flatten()\n",
    "        self.fc1 = nn.Linear(28 * 28, 16)   # Input layer to hidden layer\n",
    "        self.relu = nn.ReLU()                # Rectified Linear Unit activation - fancy name for f(x) := (x>0 ? x : 0)\n",
    "        self.fc2 = nn.Linear(16, 10)        # Hidden layer to output layer (10 classes)\n",
    "\n",
    "    def forward(self, x):\n",
    "        x = self.flatten(x)         # Flatten 28x28 to 784\n",
    "        x = self.fc1(x)             # Apply first linear layer\n",
    "        x = self.relu(x)            # Apply ReLU activation\n",
    "        x = self.fc2(x)             # Apply second linear layer\n",
    "        return x\n",
    "\n",
    "mNISTClassifier_MLP = MNISTClassifier_MLP()\n",
    "for name, param in mNISTClassifier_MLP.named_parameters():\n",
    "    if param.requires_grad:\n",
    "        print(f\"Trainable parameter: {name}, Size: {param.data.size()}\")\n",
    "        print(f\"Parameter values: {param.data}\")\n",
    "    else:\n",
    "        print(f\"Non-trainable parameter: {name}, Size: {param.data.size()}\")\n",
    "        print(f\"Parameter values: {param.data}\")"
   ]
  },
  {
   "cell_type": "markdown",
   "id": "be13b39b",
   "metadata": {},
   "source": [
    "\n",
    "Explanation:\n",
    "This class defines a simple neural network for classifying MNIST digits using PyTorch.\n",
    "MLP stands for Multi-Layer Perceptron, which is a type of feedforward neural network with one or more hidden layers.\n",
    "\n",
    "How it works:\n",
    "- The input is a 28x28 pixel image, which is flattened to a 784-element vector.\n",
    "- The first layer (fc1) maps this vector to 128 hidden neurons.\n",
    "- A ReLU activation (relu) introduces non-linearity.\n",
    "- The second layer (fc2) maps the 128 hidden neurons to 10 output neurons (one for each digit class).\n",
    "- The forward method defines the output of the model after the data is consumed by the network."
   ]
  },
  {
   "cell_type": "code",
   "execution_count": 22,
   "id": "c5390e8e",
   "metadata": {},
   "outputs": [],
   "source": [
    "# Move model to the appropriate device\n",
    "device = torch.device(\"cuda\" if torch.cuda.is_available() else \"cpu\")\n",
    "mNISTClassifier_MLP.to(device)\n",
    "# Define loss function and optimizer\n",
    "import torch.optim as optim\n",
    "criterion = nn.CrossEntropyLoss()\n",
    "optimizer = optim.Adam(mNISTClassifier_MLP.parameters(), lr=0.001)\n",
    "num_epochs = 2\n",
    "\n",
    "for epoch in range(num_epochs):\n",
    "    mNISTClassifier_MLP.train()\n",
    "    for images, labels in train_loader:\n",
    "        images, labels = images.to(device), labels.to(device)\n",
    "        optimizer.zero_grad()\n",
    "        outputs = mNISTClassifier_MLP(images)\n",
    "        loss = criterion(outputs, labels)\n",
    "        loss.backward()\n",
    "        optimizer.step()"
   ]
  },
  {
   "cell_type": "code",
   "execution_count": 23,
   "id": "57861e3d",
   "metadata": {},
   "outputs": [
    {
     "name": "stdout",
     "output_type": "stream",
     "text": [
      "Trainable parameter: fc1.weight, Size: torch.Size([16, 784])\n",
      "Parameter values: tensor([[-1.2981e-02,  1.7158e-02,  3.7975e-02,  ...,  9.3926e-03,\n",
      "          2.2361e-02,  1.0217e-02],\n",
      "        [-3.9835e-03, -1.9466e-02,  4.0201e-03,  ...,  4.2461e-03,\n",
      "          3.4956e-02, -2.5942e-02],\n",
      "        [ 3.5370e-02, -9.2420e-03, -2.8060e-02,  ...,  3.0813e-02,\n",
      "         -9.3405e-03, -3.1714e-03],\n",
      "        ...,\n",
      "        [-2.2001e-02,  7.5749e-03,  5.4011e-03,  ..., -1.8208e-02,\n",
      "          5.5774e-04, -2.1599e-02],\n",
      "        [ 3.2479e-02,  1.2085e-05,  4.0281e-02,  ..., -8.9933e-03,\n",
      "          2.3075e-02,  1.1230e-02],\n",
      "        [ 3.9956e-02,  9.4105e-03,  1.2403e-02,  ...,  2.5716e-03,\n",
      "          3.4474e-02,  2.6073e-02]])\n",
      "Trainable parameter: fc1.bias, Size: torch.Size([16])\n",
      "Parameter values: tensor([ 0.0232, -0.0195,  0.0160,  0.0148,  0.0157, -0.0240,  0.0083, -0.0156,\n",
      "         0.0084, -0.0272, -0.0239,  0.0158, -0.0281,  0.0427, -0.0075, -0.0286])\n",
      "Trainable parameter: fc2.weight, Size: torch.Size([10, 16])\n",
      "Parameter values: tensor([[ 0.1153, -0.0335, -0.1583,  0.0880,  0.4632,  0.0940, -0.0082, -0.1950,\n",
      "          0.2041,  0.1800,  0.0856, -0.4461, -0.0959, -0.3111,  0.1019, -0.2419],\n",
      "        [ 0.0284, -0.0775,  0.2374, -0.1719, -0.7464, -0.1875, -0.0535, -0.1783,\n",
      "         -0.0733,  0.1747, -0.2089,  0.4751, -0.1843, -0.2959, -0.2432,  0.0768],\n",
      "        [-0.2008,  0.1631, -0.0954, -0.0129,  0.0837,  0.1052,  0.0724,  0.0228,\n",
      "          0.1753, -0.2026,  0.0631,  0.4119,  0.0150, -0.6547, -0.1636, -0.0705],\n",
      "        [-0.0701, -0.0763,  0.1194,  0.1456, -0.3806,  0.1301, -0.0567, -0.0429,\n",
      "          0.0151, -0.1963,  0.1139,  0.1410, -0.1507,  0.1319,  0.0964,  0.1553],\n",
      "        [-0.1252,  0.1376, -0.2418, -0.1444,  0.3476,  0.0862,  0.1961,  0.1309,\n",
      "          0.0799, -0.1692,  0.1951, -0.3428, -0.1136,  0.1164,  0.2157, -0.2120],\n",
      "        [ 0.2258, -0.0383,  0.1604, -0.0621,  0.1029, -0.0373,  0.0284, -0.2421,\n",
      "         -0.2468,  0.0495, -0.1442, -0.0523,  0.1384,  0.0106,  0.1819, -0.0176],\n",
      "        [ 0.1886, -0.0068,  0.1614, -0.0017,  0.3119,  0.1350,  0.0805, -0.1907,\n",
      "          0.2042,  0.0565, -0.0340,  0.1968, -0.2393, -0.8121, -0.2322,  0.0851],\n",
      "        [-0.0113, -0.2036,  0.0558, -0.1264, -0.3427, -0.0349, -0.1120, -0.1644,\n",
      "         -0.2174, -0.1918, -0.1937, -0.6746,  0.0157,  0.4864, -0.2359,  0.0515],\n",
      "        [ 0.1578, -0.1958,  0.1258, -0.2498,  0.1392, -0.0516, -0.1073,  0.1458,\n",
      "         -0.2284, -0.1386,  0.1524,  0.1345, -0.1263, -0.1155,  0.0769, -0.1362],\n",
      "        [-0.2107, -0.1320,  0.1407,  0.0583,  0.1451,  0.1808,  0.0433,  0.1348,\n",
      "          0.0628,  0.1576, -0.0959, -0.5135,  0.1202,  0.3164, -0.2220, -0.2056]])\n",
      "Trainable parameter: fc2.bias, Size: torch.Size([10])\n",
      "Parameter values: tensor([ 1.2066, -0.2277, -0.5980, -0.5117, -0.7338,  0.4143,  0.4824,  0.4431,\n",
      "        -0.8756, -0.3766])\n"
     ]
    }
   ],
   "source": [
    "# Print the model's parameters\n",
    "for name, param in mNISTClassifier_MLP.named_parameters():\n",
    "    if param.requires_grad:\n",
    "        print(f\"Trainable parameter: {name}, Size: {param.data.size()}\")\n",
    "        print(f\"Parameter values: {param.data}\")\n",
    "    else:\n",
    "        print(f\"Non-trainable parameter: {name}, Size: {param.data.size()}\")\n",
    "        print(f\"Parameter values: {param.data}\")\n"
   ]
  },
  {
   "cell_type": "markdown",
   "id": "67408b91",
   "metadata": {},
   "source": [
    "Present the prediction of this model, along with some pictures.\n",
    "Present some wrong predictions as well."
   ]
  },
  {
   "cell_type": "code",
   "execution_count": 24,
   "id": "a280aba9",
   "metadata": {},
   "outputs": [
    {
     "data": {
      "image/png": "[encoded data removed]",
      "text/plain": [
       "<Figure size 1500x700 with 15 Axes>"
      ]
     },
     "metadata": {},
     "output_type": "display_data"
    }
   ],
   "source": [
    "num_present = 10\n",
    "num_wrong = 5\n",
    "fig, axes = plt.subplots(3, 5, figsize=(15, 7))\n",
    "index = 0\n",
    "for image, label in test_dataset:\n",
    "    image = image.unsqueeze(0).to(device)\n",
    "    outputs = mNISTClassifier_MLP(image)\n",
    "    _, predicted = torch.max(outputs.data, 1)\n",
    "    if predicted.item() == label:\n",
    "        if num_present > 0:\n",
    "            # Present correct predictions\n",
    "            axes[index//5][index%5].imshow(image.squeeze(), cmap='gray')\n",
    "            axes[index//5][index%5].set_title(f'Label: {label}')\n",
    "            axes[index//5][index%5].axis('off')\n",
    "            index += 1\n",
    "            num_present -= 1\n",
    "    else:\n",
    "        if num_wrong > 0:\n",
    "            # Present wrong predictions\n",
    "            axes[index//5][index%5].imshow(image.squeeze(), cmap='gray')\n",
    "            axes[index//5][index%5].set_title(f'Predicted: {predicted.item()}, Actual: {label}')\n",
    "            axes[index//5][index%5].axis('off')\n",
    "            index += 1\n",
    "            num_wrong -= 1\n",
    "    if num_present == 0 and num_wrong == 0:\n",
    "        break\n",
    "plt.show()\n"
   ]
  },
  {
   "cell_type": "markdown",
   "id": "1af065cb",
   "metadata": {},
   "source": [
    "The test dataset will give us the opportunity to evaluate the model's performance on unseen data. By analyzing the predictions made by the model, we can gain insights into its strengths and weaknesses, and identify areas for improvement."
   ]
  },
  {
   "cell_type": "code",
   "execution_count": 25,
   "id": "8d983753",
   "metadata": {},
   "outputs": [
    {
     "name": "stdout",
     "output_type": "stream",
     "text": [
      "Test Accuracy: 73.13%\n"
     ]
    }
   ],
   "source": [
    "mNISTClassifier_MLP.eval()\n",
    "correct = 0\n",
    "total = 0\n",
    "with torch.no_grad():\n",
    "    for images, labels in test_loader:\n",
    "        images, labels = images.to(device), labels.to(device)\n",
    "        outputs = mNISTClassifier_MLP(images)\n",
    "        _, predicted = torch.max(outputs.data, 1)\n",
    "        total += labels.size(0)\n",
    "        correct += (predicted == labels).sum().item()\n",
    "print(f'Test Accuracy: {100 * correct / total:.2f}%')"
   ]
  },
  {
   "cell_type": "markdown",
   "id": "0033ec47",
   "metadata": {},
   "source": [
    "# With a second hidden layer"
   ]
  },
  {
   "cell_type": "code",
   "execution_count": 26,
   "id": "8054ebcc",
   "metadata": {},
   "outputs": [
    {
     "name": "stdout",
     "output_type": "stream",
     "text": [
      "Trainable parameter: fc1.weight, Size: torch.Size([64, 784])\n",
      "Trainable parameter: fc1.bias, Size: torch.Size([64])\n",
      "Trainable parameter: fc2.weight, Size: torch.Size([16, 64])\n",
      "Trainable parameter: fc2.bias, Size: torch.Size([16])\n",
      "Trainable parameter: fc3.weight, Size: torch.Size([10, 16])\n",
      "Trainable parameter: fc3.bias, Size: torch.Size([10])\n"
     ]
    }
   ],
   "source": [
    "import torch.nn as nn\n",
    "\n",
    "class MNISTClassifier_MLP_WithHiddenLayer(nn.Module):\n",
    "    def __init__(self):\n",
    "        super(MNISTClassifier_MLP_WithHiddenLayer, self).__init__()\n",
    "        self.flatten = nn.Flatten()\n",
    "        self.fc1 = nn.Linear(28 * 28, 64)   # Input layer to hidden layer\n",
    "        self.relu = nn.ReLU()                # Rectified Linear Unit activation - fancy name for f(x) := (x>0 ? x : 0)\n",
    "        self.fc2 = nn.Linear(64, 16)       # Input layer to hidden layer\n",
    "        self.fc3 = nn.Linear(16, 10)        # Hidden layer to output layer (10 classes)\n",
    "\n",
    "    def forward(self, x):\n",
    "        x = self.flatten(x)         # Flatten 28x28 to 784\n",
    "        x = self.fc1(x)             # Apply first linear layer\n",
    "        x = self.relu(x)            # Apply ReLU activation\n",
    "        x = self.fc2(x)             # Apply second linear layer\n",
    "        x = self.relu(x)            # Apply ReLU activation\n",
    "        x = self.fc3(x)             # Apply third linear layer\n",
    "        return x\n",
    "\n",
    "mNISTClassifier_MLP_WithHiddenLayer = MNISTClassifier_MLP_WithHiddenLayer()\n",
    "for name, param in mNISTClassifier_MLP_WithHiddenLayer.named_parameters():\n",
    "    if param.requires_grad:\n",
    "        print(f\"Trainable parameter: {name}, Size: {param.data.size()}\")\n",
    "    else:\n",
    "        print(f\"Non-trainable parameter: {name}, Size: {param.data.size()}\")"
   ]
  },
  {
   "cell_type": "markdown",
   "id": "bc5f5daf",
   "metadata": {},
   "source": [
    "The following code should take 13 seconds to run"
   ]
  },
  {
   "cell_type": "code",
   "execution_count": 27,
   "id": "619f39d4",
   "metadata": {},
   "outputs": [
    {
     "name": "stdout",
     "output_type": "stream",
     "text": [
      "Test Accuracy: 93.25%\n"
     ]
    }
   ],
   "source": [
    "# Move model to the appropriate device\n",
    "device = torch.device(\"cuda\" if torch.cuda.is_available() else \"cpu\")\n",
    "mNISTClassifier_MLP_WithHiddenLayer.to(device)\n",
    "# Define loss function and optimizer\n",
    "import torch.optim as optim\n",
    "criterion = nn.CrossEntropyLoss()\n",
    "optimizer = optim.Adam(mNISTClassifier_MLP_WithHiddenLayer.parameters(), lr=0.001)\n",
    "num_epochs = 2\n",
    "\n",
    "for epoch in range(num_epochs):\n",
    "    mNISTClassifier_MLP_WithHiddenLayer.train()\n",
    "    for images, labels in train_loader:\n",
    "        images, labels = images.to(device), labels.to(device)\n",
    "        optimizer.zero_grad()\n",
    "        outputs = mNISTClassifier_MLP_WithHiddenLayer(images)\n",
    "        loss = criterion(outputs, labels)\n",
    "        loss.backward()\n",
    "        optimizer.step()\n",
    "\n",
    "mNISTClassifier_MLP_WithHiddenLayer.eval()\n",
    "correct = 0\n",
    "total = 0\n",
    "with torch.no_grad():\n",
    "    for images, labels in test_loader:\n",
    "        images, labels = images.to(device), labels.to(device)\n",
    "        outputs = mNISTClassifier_MLP_WithHiddenLayer(images)\n",
    "        _, predicted = torch.max(outputs.data, 1)\n",
    "        total += labels.size(0)\n",
    "        correct += (predicted == labels).sum().item()\n",
    "print(f'Test Accuracy: {100 * correct / total:.2f}%')"
   ]
  },
  {
   "cell_type": "markdown",
   "id": "304a09ab",
   "metadata": {},
   "source": [
    "# With a different optimizer"
   ]
  },
  {
   "cell_type": "code",
   "execution_count": 28,
   "id": "7e53e053",
   "metadata": {},
   "outputs": [
    {
     "name": "stdout",
     "output_type": "stream",
     "text": [
      "Test Accuracy: 92.13%\n"
     ]
    }
   ],
   "source": [
    "mNISTClassifier_MLP_DifferentOptimizer = MNISTClassifier_MLP()\n",
    "# Move model to the appropriate device\n",
    "device = torch.device(\"cuda\" if torch.cuda.is_available() else \"cpu\")\n",
    "mNISTClassifier_MLP_DifferentOptimizer.to(device)\n",
    "# Define loss function and optimizer\n",
    "import torch.optim as optim\n",
    "criterion = nn.CrossEntropyLoss()\n",
    "# Using a different optimizer\n",
    "optimizerSGD = optim.SGD(mNISTClassifier_MLP_DifferentOptimizer.parameters(), lr=0.01, momentum=0.9)\n",
    "num_epochs = 2\n",
    "\n",
    "for epoch in range(num_epochs):\n",
    "    mNISTClassifier_MLP_DifferentOptimizer.train()\n",
    "    for images, labels in train_loader:\n",
    "        images, labels = images.to(device), labels.to(device)\n",
    "        optimizerSGD.zero_grad()\n",
    "        outputs = mNISTClassifier_MLP_DifferentOptimizer(images)\n",
    "        loss = criterion(outputs, labels)\n",
    "        loss.backward()\n",
    "        optimizerSGD.step()\n",
    "\n",
    "mNISTClassifier_MLP_DifferentOptimizer.eval()\n",
    "correct = 0\n",
    "total = 0\n",
    "with torch.no_grad():\n",
    "    for images, labels in test_loader:\n",
    "        images, labels = images.to(device), labels.to(device)\n",
    "        outputs = mNISTClassifier_MLP_DifferentOptimizer(images)\n",
    "        _, predicted = torch.max(outputs.data, 1)\n",
    "        total += labels.size(0)\n",
    "        correct += (predicted == labels).sum().item()\n",
    "print(f'Test Accuracy: {100 * correct / total:.2f}%')"
   ]
  },
  {
   "cell_type": "markdown",
   "id": "c07b20f3",
   "metadata": {},
   "source": [
    "The accuracy seems to have decreased with the different optimizer."
   ]
  },
  {
   "cell_type": "markdown",
   "id": "b86a8a68",
   "metadata": {},
   "source": [
    "# Returning to the original model with more epochs"
   ]
  },
  {
   "cell_type": "code",
   "execution_count": 29,
   "id": "3331082b",
   "metadata": {},
   "outputs": [
    {
     "name": "stdout",
     "output_type": "stream",
     "text": [
      "Test Accuracy: 88.85%\n"
     ]
    }
   ],
   "source": [
    "\n",
    "mNISTClassifier_MLP_MoreEpochs = MNISTClassifier_MLP()\n",
    "mNISTClassifier_MLP_MoreEpochs.to(device)\n",
    "# Define loss function and optimizer\n",
    "import torch.optim as optim\n",
    "criterion = nn.CrossEntropyLoss()\n",
    "optimizer = optim.Adam(mNISTClassifier_MLP_MoreEpochs.parameters(), lr=0.001)\n",
    "num_epochs = 4\n",
    "\n",
    "for epoch in range(num_epochs):\n",
    "    mNISTClassifier_MLP_MoreEpochs.train()\n",
    "    for images, labels in train_loader:\n",
    "        images, labels = images.to(device), labels.to(device)\n",
    "        optimizer.zero_grad()\n",
    "        outputs = mNISTClassifier_MLP_MoreEpochs(images)\n",
    "        loss = criterion(outputs, labels)\n",
    "        loss.backward()\n",
    "        optimizer.step()\n",
    "        \n",
    "mNISTClassifier_MLP_MoreEpochs.eval()\n",
    "correct = 0\n",
    "total = 0\n",
    "with torch.no_grad():\n",
    "    for images, labels in test_loader:\n",
    "        images, labels = images.to(device), labels.to(device)\n",
    "        outputs = mNISTClassifier_MLP_MoreEpochs(images)\n",
    "        _, predicted = torch.max(outputs.data, 1)\n",
    "        total += labels.size(0)\n",
    "        correct += (predicted == labels).sum().item()\n",
    "print(f'Test Accuracy: {100 * correct / total:.2f}%')"
   ]
  },
  {
   "cell_type": "code",
   "execution_count": 30,
   "id": "050fd11d",
   "metadata": {},
   "outputs": [
    {
     "data": {
      "image/png": "[encoded data removed]",
      "text/plain": [
       "<Figure size 800x800 with 2 Axes>"
      ]
     },
     "metadata": {},
     "output_type": "display_data"
    }
   ],
   "source": [
    "# Display confusion matrix of mNISTClassifier_MLP_MoreEpochs\n",
    "import numpy as np\n",
    "import matplotlib.pyplot as plt\n",
    "from sklearn.metrics import confusion_matrix, ConfusionMatrixDisplay\n",
    "\n",
    "# Get all predictions and true labels\n",
    "all_preds = []\n",
    "all_labels = []\n",
    "mNISTClassifier_MLP_MoreEpochs.eval()\n",
    "with torch.no_grad():\n",
    "    for images, labels in test_loader:\n",
    "        images, labels = images.to(device), labels.to(device)\n",
    "        outputs = mNISTClassifier_MLP_MoreEpochs(images)\n",
    "        _, predicted = torch.max(outputs.data, 1)\n",
    "        all_preds.extend(predicted.cpu().numpy())\n",
    "        all_labels.extend(labels.cpu().numpy())\n",
    "\n",
    "# Compute confusion matrix\n",
    "cm = confusion_matrix(all_labels, all_preds)\n",
    "disp = ConfusionMatrixDisplay(confusion_matrix=cm, display_labels=np.arange(10))\n",
    "fig, ax = plt.subplots(figsize=(8, 8))\n",
    "disp.plot(ax=ax, cmap='Blues')\n",
    "plt.title(\"Confusion Matrix: MLP Classifier with More Epochs\")\n",
    "plt.show()"
   ]
  }
 ],
 "metadata": {
  "kernelspec": {
   "display_name": "Python 3",
   "language": "python",
   "name": "python3"
  },
  "language_info": {
   "codemirror_mode": {
    "name": "ipython",
    "version": 3
   },
   "file_extension": ".py",
   "mimetype": "text/x-python",
   "name": "python",
   "nbconvert_exporter": "python",
   "pygments_lexer": "ipython3",
   "version": "3.11.9"
  }
 },
 "nbformat": 4,
 "nbformat_minor": 5
}
